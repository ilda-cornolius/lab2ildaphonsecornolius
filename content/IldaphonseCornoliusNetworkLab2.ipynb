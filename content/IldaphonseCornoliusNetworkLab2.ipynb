{
  "metadata": {
    "language_info": {
      "codemirror_mode": {
        "name": "python",
        "version": 3
      },
      "file_extension": ".py",
      "mimetype": "text/x-python",
      "name": "python",
      "nbconvert_exporter": "python",
      "pygments_lexer": "ipython3",
      "version": "3.8"
    },
    "kernelspec": {
      "name": "python",
      "display_name": "Python (Pyodide)",
      "language": "python"
    }
  },
  "nbformat_minor": 4,
  "nbformat": 4,
  "cells": [
    {
      "cell_type": "code",
      "source": "#Ildaphonse Cornolius\n#5/27/2023\n\nclass Pet:\n    def __init__(self, *args):\n        self.name = args[0]\n        \n        if len(args) == 1:\n            self.age = 5\n        elif len(args) == 2:\n            self.age = int(args[1])\n            \n        self.owner = \"no one\"\n        self.trained = \"not \"\n        \n    def set_owner(self, name):\n        self.owner = name\n        \n    def train(self):\n        self.trained = \"\"\n        \n    def __str__(self):\n        cat = \"Hi I am \" + str(self.age) + \" yrs old and my name is \" + self.name + \".\"\n        cat += \"\\nI am \" + self.trained + \"house trained and \" + self.owner + \" owns me.\"\n        return cat\n    \n    def __repr__(self):\n        cat = \"Hi I am \" + str(self.age) + \" yrs old and my name is \" + self.name + \".\"\n        cat += \"\\nI am \" + self.trained + \"house trained and \" + self.owner + \" owns me.\"\n        return cat\n\n\n#test harness\ngarfield = Pet('Garfield', 3)\nx = 1\nprint(f'{x}:{garfield}')\nx = 2\nprint(f'{x}:{garfield.owner}')\n\ngarfield.set_owner('Jon')\nx = 3\nprint(f'{x}:{garfield.owner}')\n\ngarfield.train()\nx = 4\nprint(f'{x}:{garfield}')\n\n#create a list with about 4 pets\npets = [garfield, Pet('Beethoven', 2), Pet('Jake'), Pet('Stuart', 7)]\nfor p in pets:\n    x += 1\n    print(f'\\n{x}:{p}')\n\n",
      "metadata": {
        "trusted": true
      },
      "execution_count": 15,
      "outputs": [
        {
          "name": "stdout",
          "text": "1:Hi I am 3 yrs old and my name is Garfield.\nI am not house trained and no one owns me.\n2:no one\n3:Jon\n4:Hi I am 3 yrs old and my name is Garfield.\nI am house trained and Jon owns me.\n\n5:Hi I am 3 yrs old and my name is Garfield.\nI am house trained and Jon owns me.\n\n6:Hi I am 2 yrs old and my name is Beethoven.\nI am not house trained and no one owns me.\n\n7:Hi I am 5 yrs old and my name is Jake.\nI am not house trained and no one owns me.\n\n8:Hi I am 7 yrs old and my name is Stuart.\nI am not house trained and no one owns me.\n",
          "output_type": "stream"
        }
      ]
    }
  ]
}